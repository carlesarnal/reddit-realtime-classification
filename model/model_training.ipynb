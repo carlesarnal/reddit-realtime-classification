{
 "cells": [
  {
   "cell_type": "code",
   "id": "initial_id",
   "metadata": {
    "collapsed": true,
    "ExecuteTime": {
     "end_time": "2025-03-12T09:09:14.146911Z",
     "start_time": "2025-03-12T09:09:12.124137Z"
    }
   },
   "source": [
    "import pandas as pd\n",
    "import numpy as np\n",
    "from tqdm import tqdm\n",
    "import matplotlib.pyplot as plt\n",
    "from nltk import word_tokenize\n",
    "from nltk.util import ngrams  \n",
    "from heapq import nlargest\n",
    "import collections\n",
    "from sklearn.decomposition import TruncatedSVD\n",
    "from sklearn.model_selection import train_test_split\n",
    "from sklearn.preprocessing import LabelEncoder\n",
    "from sklearn.feature_extraction.text import TfidfVectorizer\n",
    "from sklearn.linear_model import LogisticRegression\n",
    "from sklearn.svm import SVC\n",
    "from sklearn import naive_bayes\n",
    "from sklearn.metrics import accuracy_score, classification_report, confusion_matrix\n",
    "from sklearn.ensemble import RandomForestClassifier\n",
    "from mlxtend.plotting import plot_confusion_matrix\n",
    "import pickle "
   ],
   "outputs": [],
   "execution_count": 1
  },
  {
   "metadata": {
    "ExecuteTime": {
     "end_time": "2025-03-12T09:10:06.439159Z",
     "start_time": "2025-03-12T09:10:06.343098Z"
    }
   },
   "cell_type": "code",
   "source": [
    "data = pd.read_csv('pre_trained_data.csv', parse_dates=['timestamp'])\n",
    "data.body.fillna('', inplace=True)\n",
    "data.tail()"
   ],
   "id": "91e27810e7ad737a",
   "outputs": [
    {
     "name": "stderr",
     "output_type": "stream",
     "text": [
      "/var/folders/41/1lg2xxbj1dlcdf7gyq8_zr640000gn/T/ipykernel_52646/4286374791.py:2: FutureWarning: A value is trying to be set on a copy of a DataFrame or Series through chained assignment using an inplace method.\n",
      "The behavior will change in pandas 3.0. This inplace method will never work because the intermediate object on which we are setting values always behaves as a copy.\n",
      "\n",
      "For example, when doing 'df[col].method(value, inplace=True)', try using 'df.method({col: value}, inplace=True)' or df[col] = df[col].method(value) instead, to perform the operation inplace on the original object.\n",
      "\n",
      "\n",
      "  data.body.fillna('', inplace=True)\n"
     ]
    },
    {
     "data": {
      "text/plain": [
       "          id      flair                                              title  \\\n",
       "190  1fxc8nz       Misc  What are some common household items that you ...   \n",
       "191  1heq03t     Sports   Why does England flounder in the Euros so often?   \n",
       "192  1hmktfs   Language  In Estonian \"Terje\" is 100% a women's name. I ...   \n",
       "193  1gvlsfy  Education  Which subject would you say most high school s...   \n",
       "194  1h4gn4t    Foreign  Do you guys still use sepa direct debit as you...   \n",
       "\n",
       "                                                  body  \\\n",
       "190  What is something that is so useful that you a...   \n",
       "191  I (an Australian) have a vague interest in foo...   \n",
       "192  *Terje is a masculine given name of Scandinavi...   \n",
       "193  Why is that? Complexity of the arguments? Very...   \n",
       "194  Hello! Just want to ask if in Europe the main ...   \n",
       "\n",
       "                                              comments  score  \\\n",
       "190    Netherlands:  Has a bathroom birthday calend...    348   \n",
       "191    a) We’ve never been as good as what the medi...     49   \n",
       "192    Nicola is a woman's name in the UK but it's ...    232   \n",
       "193    Advanced math, physics and maybe chemistry. ...     46   \n",
       "194    What do you mean by \"still\"? People use debi...      0   \n",
       "\n",
       "                   author                                                url  \\\n",
       "190             HShatesme  https://www.reddit.com/r/AskEurope/comments/1f...   \n",
       "191               J360222  https://www.reddit.com/r/AskEurope/comments/1h...   \n",
       "192   Double-decker_trams  https://www.reddit.com/r/AskEurope/comments/1h...   \n",
       "193              lucapal1  https://www.reddit.com/r/AskEurope/comments/1g...   \n",
       "194  Careful-Flamingo3003  https://www.reddit.com/r/AskEurope/comments/1h...   \n",
       "\n",
       "        domain  comms_num           timestamp  \n",
       "190  self-post        833 2024-10-06 10:53:29  \n",
       "191  self-post        133 2024-12-15 11:35:40  \n",
       "192  self-post        641 2024-12-26 10:17:08  \n",
       "193  self-post        112 2024-11-20 10:34:21  \n",
       "194  self-post        133 2024-12-02 00:20:26  "
      ],
      "text/html": [
       "<div>\n",
       "<style scoped>\n",
       "    .dataframe tbody tr th:only-of-type {\n",
       "        vertical-align: middle;\n",
       "    }\n",
       "\n",
       "    .dataframe tbody tr th {\n",
       "        vertical-align: top;\n",
       "    }\n",
       "\n",
       "    .dataframe thead th {\n",
       "        text-align: right;\n",
       "    }\n",
       "</style>\n",
       "<table border=\"1\" class=\"dataframe\">\n",
       "  <thead>\n",
       "    <tr style=\"text-align: right;\">\n",
       "      <th></th>\n",
       "      <th>id</th>\n",
       "      <th>flair</th>\n",
       "      <th>title</th>\n",
       "      <th>body</th>\n",
       "      <th>comments</th>\n",
       "      <th>score</th>\n",
       "      <th>author</th>\n",
       "      <th>url</th>\n",
       "      <th>domain</th>\n",
       "      <th>comms_num</th>\n",
       "      <th>timestamp</th>\n",
       "    </tr>\n",
       "  </thead>\n",
       "  <tbody>\n",
       "    <tr>\n",
       "      <th>190</th>\n",
       "      <td>1fxc8nz</td>\n",
       "      <td>Misc</td>\n",
       "      <td>What are some common household items that you ...</td>\n",
       "      <td>What is something that is so useful that you a...</td>\n",
       "      <td>Netherlands:  Has a bathroom birthday calend...</td>\n",
       "      <td>348</td>\n",
       "      <td>HShatesme</td>\n",
       "      <td>https://www.reddit.com/r/AskEurope/comments/1f...</td>\n",
       "      <td>self-post</td>\n",
       "      <td>833</td>\n",
       "      <td>2024-10-06 10:53:29</td>\n",
       "    </tr>\n",
       "    <tr>\n",
       "      <th>191</th>\n",
       "      <td>1heq03t</td>\n",
       "      <td>Sports</td>\n",
       "      <td>Why does England flounder in the Euros so often?</td>\n",
       "      <td>I (an Australian) have a vague interest in foo...</td>\n",
       "      <td>a) We’ve never been as good as what the medi...</td>\n",
       "      <td>49</td>\n",
       "      <td>J360222</td>\n",
       "      <td>https://www.reddit.com/r/AskEurope/comments/1h...</td>\n",
       "      <td>self-post</td>\n",
       "      <td>133</td>\n",
       "      <td>2024-12-15 11:35:40</td>\n",
       "    </tr>\n",
       "    <tr>\n",
       "      <th>192</th>\n",
       "      <td>1hmktfs</td>\n",
       "      <td>Language</td>\n",
       "      <td>In Estonian \"Terje\" is 100% a women's name. I ...</td>\n",
       "      <td>*Terje is a masculine given name of Scandinavi...</td>\n",
       "      <td>Nicola is a woman's name in the UK but it's ...</td>\n",
       "      <td>232</td>\n",
       "      <td>Double-decker_trams</td>\n",
       "      <td>https://www.reddit.com/r/AskEurope/comments/1h...</td>\n",
       "      <td>self-post</td>\n",
       "      <td>641</td>\n",
       "      <td>2024-12-26 10:17:08</td>\n",
       "    </tr>\n",
       "    <tr>\n",
       "      <th>193</th>\n",
       "      <td>1gvlsfy</td>\n",
       "      <td>Education</td>\n",
       "      <td>Which subject would you say most high school s...</td>\n",
       "      <td>Why is that? Complexity of the arguments? Very...</td>\n",
       "      <td>Advanced math, physics and maybe chemistry. ...</td>\n",
       "      <td>46</td>\n",
       "      <td>lucapal1</td>\n",
       "      <td>https://www.reddit.com/r/AskEurope/comments/1g...</td>\n",
       "      <td>self-post</td>\n",
       "      <td>112</td>\n",
       "      <td>2024-11-20 10:34:21</td>\n",
       "    </tr>\n",
       "    <tr>\n",
       "      <th>194</th>\n",
       "      <td>1h4gn4t</td>\n",
       "      <td>Foreign</td>\n",
       "      <td>Do you guys still use sepa direct debit as you...</td>\n",
       "      <td>Hello! Just want to ask if in Europe the main ...</td>\n",
       "      <td>What do you mean by \"still\"? People use debi...</td>\n",
       "      <td>0</td>\n",
       "      <td>Careful-Flamingo3003</td>\n",
       "      <td>https://www.reddit.com/r/AskEurope/comments/1h...</td>\n",
       "      <td>self-post</td>\n",
       "      <td>133</td>\n",
       "      <td>2024-12-02 00:20:26</td>\n",
       "    </tr>\n",
       "  </tbody>\n",
       "</table>\n",
       "</div>"
      ]
     },
     "execution_count": 2,
     "metadata": {},
     "output_type": "execute_result"
    }
   ],
   "execution_count": 2
  },
  {
   "metadata": {
    "ExecuteTime": {
     "end_time": "2025-03-12T09:10:08.170393Z",
     "start_time": "2025-03-12T09:10:08.037431Z"
    }
   },
   "cell_type": "code",
   "source": [
    "flairs = ['Work', 'Misc', 'Food', 'Personal', 'Meta', 'Sports', 'Travel', 'Politics', 'Culture', 'History', 'Education', 'Language', 'Foreign']\n",
    "\n",
    "# Merging megathreads into respective flairs\n",
    "for flr in flairs:\n",
    "    data.flair[data.flair == flr +' [Megathread]'] = flr\n",
    "    \n",
    "plt.figure(figsize=(10,5))\n",
    "data.flair.value_counts().plot(kind='bar', fontsize=12);"
   ],
   "id": "7f1814eb3dc515b1",
   "outputs": [
    {
     "name": "stderr",
     "output_type": "stream",
     "text": [
      "/var/folders/41/1lg2xxbj1dlcdf7gyq8_zr640000gn/T/ipykernel_52646/2138992760.py:5: FutureWarning: ChainedAssignmentError: behaviour will change in pandas 3.0!\n",
      "You are setting values through chained assignment. Currently this works in certain cases, but when using Copy-on-Write (which will become the default behaviour in pandas 3.0) this will never work to update the original DataFrame or Series, because the intermediate object on which we are setting values will behave as a copy.\n",
      "A typical example is when you are setting values in a column of a DataFrame, like:\n",
      "\n",
      "df[\"col\"][row_indexer] = value\n",
      "\n",
      "Use `df.loc[row_indexer, \"col\"] = values` instead, to perform the assignment in a single step and ensure this keeps updating the original `df`.\n",
      "\n",
      "See the caveats in the documentation: https://pandas.pydata.org/pandas-docs/stable/user_guide/indexing.html#returning-a-view-versus-a-copy\n",
      "\n",
      "  data.flair[data.flair == flr +' [Megathread]'] = flr\n",
      "/var/folders/41/1lg2xxbj1dlcdf7gyq8_zr640000gn/T/ipykernel_52646/2138992760.py:5: SettingWithCopyWarning: \n",
      "A value is trying to be set on a copy of a slice from a DataFrame\n",
      "\n",
      "See the caveats in the documentation: https://pandas.pydata.org/pandas-docs/stable/user_guide/indexing.html#returning-a-view-versus-a-copy\n",
      "  data.flair[data.flair == flr +' [Megathread]'] = flr\n",
      "/var/folders/41/1lg2xxbj1dlcdf7gyq8_zr640000gn/T/ipykernel_52646/2138992760.py:5: FutureWarning: ChainedAssignmentError: behaviour will change in pandas 3.0!\n",
      "You are setting values through chained assignment. Currently this works in certain cases, but when using Copy-on-Write (which will become the default behaviour in pandas 3.0) this will never work to update the original DataFrame or Series, because the intermediate object on which we are setting values will behave as a copy.\n",
      "A typical example is when you are setting values in a column of a DataFrame, like:\n",
      "\n",
      "df[\"col\"][row_indexer] = value\n",
      "\n",
      "Use `df.loc[row_indexer, \"col\"] = values` instead, to perform the assignment in a single step and ensure this keeps updating the original `df`.\n",
      "\n",
      "See the caveats in the documentation: https://pandas.pydata.org/pandas-docs/stable/user_guide/indexing.html#returning-a-view-versus-a-copy\n",
      "\n",
      "  data.flair[data.flair == flr +' [Megathread]'] = flr\n",
      "/var/folders/41/1lg2xxbj1dlcdf7gyq8_zr640000gn/T/ipykernel_52646/2138992760.py:5: SettingWithCopyWarning: \n",
      "A value is trying to be set on a copy of a slice from a DataFrame\n",
      "\n",
      "See the caveats in the documentation: https://pandas.pydata.org/pandas-docs/stable/user_guide/indexing.html#returning-a-view-versus-a-copy\n",
      "  data.flair[data.flair == flr +' [Megathread]'] = flr\n",
      "/var/folders/41/1lg2xxbj1dlcdf7gyq8_zr640000gn/T/ipykernel_52646/2138992760.py:5: FutureWarning: ChainedAssignmentError: behaviour will change in pandas 3.0!\n",
      "You are setting values through chained assignment. Currently this works in certain cases, but when using Copy-on-Write (which will become the default behaviour in pandas 3.0) this will never work to update the original DataFrame or Series, because the intermediate object on which we are setting values will behave as a copy.\n",
      "A typical example is when you are setting values in a column of a DataFrame, like:\n",
      "\n",
      "df[\"col\"][row_indexer] = value\n",
      "\n",
      "Use `df.loc[row_indexer, \"col\"] = values` instead, to perform the assignment in a single step and ensure this keeps updating the original `df`.\n",
      "\n",
      "See the caveats in the documentation: https://pandas.pydata.org/pandas-docs/stable/user_guide/indexing.html#returning-a-view-versus-a-copy\n",
      "\n",
      "  data.flair[data.flair == flr +' [Megathread]'] = flr\n",
      "/var/folders/41/1lg2xxbj1dlcdf7gyq8_zr640000gn/T/ipykernel_52646/2138992760.py:5: SettingWithCopyWarning: \n",
      "A value is trying to be set on a copy of a slice from a DataFrame\n",
      "\n",
      "See the caveats in the documentation: https://pandas.pydata.org/pandas-docs/stable/user_guide/indexing.html#returning-a-view-versus-a-copy\n",
      "  data.flair[data.flair == flr +' [Megathread]'] = flr\n",
      "/var/folders/41/1lg2xxbj1dlcdf7gyq8_zr640000gn/T/ipykernel_52646/2138992760.py:5: FutureWarning: ChainedAssignmentError: behaviour will change in pandas 3.0!\n",
      "You are setting values through chained assignment. Currently this works in certain cases, but when using Copy-on-Write (which will become the default behaviour in pandas 3.0) this will never work to update the original DataFrame or Series, because the intermediate object on which we are setting values will behave as a copy.\n",
      "A typical example is when you are setting values in a column of a DataFrame, like:\n",
      "\n",
      "df[\"col\"][row_indexer] = value\n",
      "\n",
      "Use `df.loc[row_indexer, \"col\"] = values` instead, to perform the assignment in a single step and ensure this keeps updating the original `df`.\n",
      "\n",
      "See the caveats in the documentation: https://pandas.pydata.org/pandas-docs/stable/user_guide/indexing.html#returning-a-view-versus-a-copy\n",
      "\n",
      "  data.flair[data.flair == flr +' [Megathread]'] = flr\n",
      "/var/folders/41/1lg2xxbj1dlcdf7gyq8_zr640000gn/T/ipykernel_52646/2138992760.py:5: SettingWithCopyWarning: \n",
      "A value is trying to be set on a copy of a slice from a DataFrame\n",
      "\n",
      "See the caveats in the documentation: https://pandas.pydata.org/pandas-docs/stable/user_guide/indexing.html#returning-a-view-versus-a-copy\n",
      "  data.flair[data.flair == flr +' [Megathread]'] = flr\n",
      "/var/folders/41/1lg2xxbj1dlcdf7gyq8_zr640000gn/T/ipykernel_52646/2138992760.py:5: FutureWarning: ChainedAssignmentError: behaviour will change in pandas 3.0!\n",
      "You are setting values through chained assignment. Currently this works in certain cases, but when using Copy-on-Write (which will become the default behaviour in pandas 3.0) this will never work to update the original DataFrame or Series, because the intermediate object on which we are setting values will behave as a copy.\n",
      "A typical example is when you are setting values in a column of a DataFrame, like:\n",
      "\n",
      "df[\"col\"][row_indexer] = value\n",
      "\n",
      "Use `df.loc[row_indexer, \"col\"] = values` instead, to perform the assignment in a single step and ensure this keeps updating the original `df`.\n",
      "\n",
      "See the caveats in the documentation: https://pandas.pydata.org/pandas-docs/stable/user_guide/indexing.html#returning-a-view-versus-a-copy\n",
      "\n",
      "  data.flair[data.flair == flr +' [Megathread]'] = flr\n",
      "/var/folders/41/1lg2xxbj1dlcdf7gyq8_zr640000gn/T/ipykernel_52646/2138992760.py:5: SettingWithCopyWarning: \n",
      "A value is trying to be set on a copy of a slice from a DataFrame\n",
      "\n",
      "See the caveats in the documentation: https://pandas.pydata.org/pandas-docs/stable/user_guide/indexing.html#returning-a-view-versus-a-copy\n",
      "  data.flair[data.flair == flr +' [Megathread]'] = flr\n",
      "/var/folders/41/1lg2xxbj1dlcdf7gyq8_zr640000gn/T/ipykernel_52646/2138992760.py:5: FutureWarning: ChainedAssignmentError: behaviour will change in pandas 3.0!\n",
      "You are setting values through chained assignment. Currently this works in certain cases, but when using Copy-on-Write (which will become the default behaviour in pandas 3.0) this will never work to update the original DataFrame or Series, because the intermediate object on which we are setting values will behave as a copy.\n",
      "A typical example is when you are setting values in a column of a DataFrame, like:\n",
      "\n",
      "df[\"col\"][row_indexer] = value\n",
      "\n",
      "Use `df.loc[row_indexer, \"col\"] = values` instead, to perform the assignment in a single step and ensure this keeps updating the original `df`.\n",
      "\n",
      "See the caveats in the documentation: https://pandas.pydata.org/pandas-docs/stable/user_guide/indexing.html#returning-a-view-versus-a-copy\n",
      "\n",
      "  data.flair[data.flair == flr +' [Megathread]'] = flr\n",
      "/var/folders/41/1lg2xxbj1dlcdf7gyq8_zr640000gn/T/ipykernel_52646/2138992760.py:5: SettingWithCopyWarning: \n",
      "A value is trying to be set on a copy of a slice from a DataFrame\n",
      "\n",
      "See the caveats in the documentation: https://pandas.pydata.org/pandas-docs/stable/user_guide/indexing.html#returning-a-view-versus-a-copy\n",
      "  data.flair[data.flair == flr +' [Megathread]'] = flr\n",
      "/var/folders/41/1lg2xxbj1dlcdf7gyq8_zr640000gn/T/ipykernel_52646/2138992760.py:5: FutureWarning: ChainedAssignmentError: behaviour will change in pandas 3.0!\n",
      "You are setting values through chained assignment. Currently this works in certain cases, but when using Copy-on-Write (which will become the default behaviour in pandas 3.0) this will never work to update the original DataFrame or Series, because the intermediate object on which we are setting values will behave as a copy.\n",
      "A typical example is when you are setting values in a column of a DataFrame, like:\n",
      "\n",
      "df[\"col\"][row_indexer] = value\n",
      "\n",
      "Use `df.loc[row_indexer, \"col\"] = values` instead, to perform the assignment in a single step and ensure this keeps updating the original `df`.\n",
      "\n",
      "See the caveats in the documentation: https://pandas.pydata.org/pandas-docs/stable/user_guide/indexing.html#returning-a-view-versus-a-copy\n",
      "\n",
      "  data.flair[data.flair == flr +' [Megathread]'] = flr\n",
      "/var/folders/41/1lg2xxbj1dlcdf7gyq8_zr640000gn/T/ipykernel_52646/2138992760.py:5: SettingWithCopyWarning: \n",
      "A value is trying to be set on a copy of a slice from a DataFrame\n",
      "\n",
      "See the caveats in the documentation: https://pandas.pydata.org/pandas-docs/stable/user_guide/indexing.html#returning-a-view-versus-a-copy\n",
      "  data.flair[data.flair == flr +' [Megathread]'] = flr\n",
      "/var/folders/41/1lg2xxbj1dlcdf7gyq8_zr640000gn/T/ipykernel_52646/2138992760.py:5: FutureWarning: ChainedAssignmentError: behaviour will change in pandas 3.0!\n",
      "You are setting values through chained assignment. Currently this works in certain cases, but when using Copy-on-Write (which will become the default behaviour in pandas 3.0) this will never work to update the original DataFrame or Series, because the intermediate object on which we are setting values will behave as a copy.\n",
      "A typical example is when you are setting values in a column of a DataFrame, like:\n",
      "\n",
      "df[\"col\"][row_indexer] = value\n",
      "\n",
      "Use `df.loc[row_indexer, \"col\"] = values` instead, to perform the assignment in a single step and ensure this keeps updating the original `df`.\n",
      "\n",
      "See the caveats in the documentation: https://pandas.pydata.org/pandas-docs/stable/user_guide/indexing.html#returning-a-view-versus-a-copy\n",
      "\n",
      "  data.flair[data.flair == flr +' [Megathread]'] = flr\n",
      "/var/folders/41/1lg2xxbj1dlcdf7gyq8_zr640000gn/T/ipykernel_52646/2138992760.py:5: SettingWithCopyWarning: \n",
      "A value is trying to be set on a copy of a slice from a DataFrame\n",
      "\n",
      "See the caveats in the documentation: https://pandas.pydata.org/pandas-docs/stable/user_guide/indexing.html#returning-a-view-versus-a-copy\n",
      "  data.flair[data.flair == flr +' [Megathread]'] = flr\n",
      "/var/folders/41/1lg2xxbj1dlcdf7gyq8_zr640000gn/T/ipykernel_52646/2138992760.py:5: FutureWarning: ChainedAssignmentError: behaviour will change in pandas 3.0!\n",
      "You are setting values through chained assignment. Currently this works in certain cases, but when using Copy-on-Write (which will become the default behaviour in pandas 3.0) this will never work to update the original DataFrame or Series, because the intermediate object on which we are setting values will behave as a copy.\n",
      "A typical example is when you are setting values in a column of a DataFrame, like:\n",
      "\n",
      "df[\"col\"][row_indexer] = value\n",
      "\n",
      "Use `df.loc[row_indexer, \"col\"] = values` instead, to perform the assignment in a single step and ensure this keeps updating the original `df`.\n",
      "\n",
      "See the caveats in the documentation: https://pandas.pydata.org/pandas-docs/stable/user_guide/indexing.html#returning-a-view-versus-a-copy\n",
      "\n",
      "  data.flair[data.flair == flr +' [Megathread]'] = flr\n",
      "/var/folders/41/1lg2xxbj1dlcdf7gyq8_zr640000gn/T/ipykernel_52646/2138992760.py:5: SettingWithCopyWarning: \n",
      "A value is trying to be set on a copy of a slice from a DataFrame\n",
      "\n",
      "See the caveats in the documentation: https://pandas.pydata.org/pandas-docs/stable/user_guide/indexing.html#returning-a-view-versus-a-copy\n",
      "  data.flair[data.flair == flr +' [Megathread]'] = flr\n",
      "/var/folders/41/1lg2xxbj1dlcdf7gyq8_zr640000gn/T/ipykernel_52646/2138992760.py:5: FutureWarning: ChainedAssignmentError: behaviour will change in pandas 3.0!\n",
      "You are setting values through chained assignment. Currently this works in certain cases, but when using Copy-on-Write (which will become the default behaviour in pandas 3.0) this will never work to update the original DataFrame or Series, because the intermediate object on which we are setting values will behave as a copy.\n",
      "A typical example is when you are setting values in a column of a DataFrame, like:\n",
      "\n",
      "df[\"col\"][row_indexer] = value\n",
      "\n",
      "Use `df.loc[row_indexer, \"col\"] = values` instead, to perform the assignment in a single step and ensure this keeps updating the original `df`.\n",
      "\n",
      "See the caveats in the documentation: https://pandas.pydata.org/pandas-docs/stable/user_guide/indexing.html#returning-a-view-versus-a-copy\n",
      "\n",
      "  data.flair[data.flair == flr +' [Megathread]'] = flr\n",
      "/var/folders/41/1lg2xxbj1dlcdf7gyq8_zr640000gn/T/ipykernel_52646/2138992760.py:5: SettingWithCopyWarning: \n",
      "A value is trying to be set on a copy of a slice from a DataFrame\n",
      "\n",
      "See the caveats in the documentation: https://pandas.pydata.org/pandas-docs/stable/user_guide/indexing.html#returning-a-view-versus-a-copy\n",
      "  data.flair[data.flair == flr +' [Megathread]'] = flr\n",
      "/var/folders/41/1lg2xxbj1dlcdf7gyq8_zr640000gn/T/ipykernel_52646/2138992760.py:5: FutureWarning: ChainedAssignmentError: behaviour will change in pandas 3.0!\n",
      "You are setting values through chained assignment. Currently this works in certain cases, but when using Copy-on-Write (which will become the default behaviour in pandas 3.0) this will never work to update the original DataFrame or Series, because the intermediate object on which we are setting values will behave as a copy.\n",
      "A typical example is when you are setting values in a column of a DataFrame, like:\n",
      "\n",
      "df[\"col\"][row_indexer] = value\n",
      "\n",
      "Use `df.loc[row_indexer, \"col\"] = values` instead, to perform the assignment in a single step and ensure this keeps updating the original `df`.\n",
      "\n",
      "See the caveats in the documentation: https://pandas.pydata.org/pandas-docs/stable/user_guide/indexing.html#returning-a-view-versus-a-copy\n",
      "\n",
      "  data.flair[data.flair == flr +' [Megathread]'] = flr\n",
      "/var/folders/41/1lg2xxbj1dlcdf7gyq8_zr640000gn/T/ipykernel_52646/2138992760.py:5: SettingWithCopyWarning: \n",
      "A value is trying to be set on a copy of a slice from a DataFrame\n",
      "\n",
      "See the caveats in the documentation: https://pandas.pydata.org/pandas-docs/stable/user_guide/indexing.html#returning-a-view-versus-a-copy\n",
      "  data.flair[data.flair == flr +' [Megathread]'] = flr\n",
      "/var/folders/41/1lg2xxbj1dlcdf7gyq8_zr640000gn/T/ipykernel_52646/2138992760.py:5: FutureWarning: ChainedAssignmentError: behaviour will change in pandas 3.0!\n",
      "You are setting values through chained assignment. Currently this works in certain cases, but when using Copy-on-Write (which will become the default behaviour in pandas 3.0) this will never work to update the original DataFrame or Series, because the intermediate object on which we are setting values will behave as a copy.\n",
      "A typical example is when you are setting values in a column of a DataFrame, like:\n",
      "\n",
      "df[\"col\"][row_indexer] = value\n",
      "\n",
      "Use `df.loc[row_indexer, \"col\"] = values` instead, to perform the assignment in a single step and ensure this keeps updating the original `df`.\n",
      "\n",
      "See the caveats in the documentation: https://pandas.pydata.org/pandas-docs/stable/user_guide/indexing.html#returning-a-view-versus-a-copy\n",
      "\n",
      "  data.flair[data.flair == flr +' [Megathread]'] = flr\n",
      "/var/folders/41/1lg2xxbj1dlcdf7gyq8_zr640000gn/T/ipykernel_52646/2138992760.py:5: SettingWithCopyWarning: \n",
      "A value is trying to be set on a copy of a slice from a DataFrame\n",
      "\n",
      "See the caveats in the documentation: https://pandas.pydata.org/pandas-docs/stable/user_guide/indexing.html#returning-a-view-versus-a-copy\n",
      "  data.flair[data.flair == flr +' [Megathread]'] = flr\n",
      "/var/folders/41/1lg2xxbj1dlcdf7gyq8_zr640000gn/T/ipykernel_52646/2138992760.py:5: FutureWarning: ChainedAssignmentError: behaviour will change in pandas 3.0!\n",
      "You are setting values through chained assignment. Currently this works in certain cases, but when using Copy-on-Write (which will become the default behaviour in pandas 3.0) this will never work to update the original DataFrame or Series, because the intermediate object on which we are setting values will behave as a copy.\n",
      "A typical example is when you are setting values in a column of a DataFrame, like:\n",
      "\n",
      "df[\"col\"][row_indexer] = value\n",
      "\n",
      "Use `df.loc[row_indexer, \"col\"] = values` instead, to perform the assignment in a single step and ensure this keeps updating the original `df`.\n",
      "\n",
      "See the caveats in the documentation: https://pandas.pydata.org/pandas-docs/stable/user_guide/indexing.html#returning-a-view-versus-a-copy\n",
      "\n",
      "  data.flair[data.flair == flr +' [Megathread]'] = flr\n",
      "/var/folders/41/1lg2xxbj1dlcdf7gyq8_zr640000gn/T/ipykernel_52646/2138992760.py:5: SettingWithCopyWarning: \n",
      "A value is trying to be set on a copy of a slice from a DataFrame\n",
      "\n",
      "See the caveats in the documentation: https://pandas.pydata.org/pandas-docs/stable/user_guide/indexing.html#returning-a-view-versus-a-copy\n",
      "  data.flair[data.flair == flr +' [Megathread]'] = flr\n"
     ]
    },
    {
     "data": {
      "text/plain": [
       "<Figure size 1000x500 with 1 Axes>"
      ],
      "image/png": "[encoded data removed]"
     },
     "metadata": {},
     "output_type": "display_data"
    }
   ],
   "execution_count": 3
  },
  {
   "metadata": {
    "ExecuteTime": {
     "end_time": "2025-03-12T09:10:39.785118Z",
     "start_time": "2025-03-12T09:10:10.526036Z"
    }
   },
   "cell_type": "code",
   "source": [
    "import cleaning\n",
    "\n",
    "cleaning.clean_text(data, 'title')\n",
    "cleaning.clean_text(data, 'body')\n",
    "cleaning.clean_text(data, 'comments')"
   ],
   "id": "ca04908697be0275",
   "outputs": [
    {
     "name": "stderr",
     "output_type": "stream",
     "text": [
      "[nltk_data] Downloading package averaged_perceptron_tagger to\n",
      "[nltk_data]     /Users/carlesarnal/nltk_data...\n",
      "[nltk_data]   Package averaged_perceptron_tagger is already up-to-\n",
      "[nltk_data]       date!\n"
     ]
    },
    {
     "name": "stdout",
     "output_type": "stream",
     "text": [
      "Cleaning text of title ...\n",
      "DONE! \n",
      "\n",
      "Cleaning text of body ...\n",
      "DONE! \n",
      "\n",
      "Cleaning text of comments ...\n",
      "DONE! \n",
      "\n"
     ]
    }
   ],
   "execution_count": 4
  },
  {
   "metadata": {
    "ExecuteTime": {
     "end_time": "2025-03-12T09:14:24.618619Z",
     "start_time": "2025-03-12T09:14:24.578435Z"
    }
   },
   "cell_type": "code",
   "source": [
    "# Merging title and body text into a new column: content\n",
    "data['content'] = data.title +' '+ data.body +' '+ data.comments +' '+ data.domain\n",
    "\n",
    "X = data.content\n",
    "y = data.flair\n",
    "\n",
    "# Label encoding the classes (alphabetically by default)\n",
    "encoder = LabelEncoder()\n",
    "y = encoder.fit_transform(y)"
   ],
   "id": "787d85a6765c16e1",
   "outputs": [],
   "execution_count": 5
  },
  {
   "metadata": {
    "ExecuteTime": {
     "end_time": "2025-03-12T09:14:27.777164Z",
     "start_time": "2025-03-12T09:14:26.256017Z"
    }
   },
   "cell_type": "code",
   "source": [
    "top_num = 10\n",
    "\n",
    "for flair in flairs:\n",
    "    all_text = ' '.join(str(word) for word in data.content[data.flair == flair].values) \n",
    "    tokens = word_tokenize(all_text)\n",
    "    \n",
    "    unigrams = ngrams(tokens, 1)\n",
    "    unigrams = collections.Counter(unigrams).most_common(top_num)\n",
    "    unigrams = [item[0][0] for item in unigrams]\n",
    "\n",
    "    bigrams = ngrams(tokens, 2)\n",
    "    bigrams = collections.Counter(bigrams).most_common(top_num)\n",
    "    bigrams = [item[0][0]+' '+item[0][1] for item in bigrams]\n",
    "\n",
    "    print(f\"> {flair} \\nUnigrams: {unigrams} \\nBigrams: {bigrams} \\n\")"
   ],
   "id": "976d0480b4ed0bd7",
   "outputs": [
    {
     "name": "stdout",
     "output_type": "stream",
     "text": [
      "> Work \n",
      "Unigrams: ['€', 'work', 'day', 'year', 'net', 'pay', 'month', 'job', 'time', 'sick'] \n",
      "Bigrams: ['€ net', '€ gross', 'year experience', 'gross €', 'sick day', '€ month', 'public holiday', 'sick leave', 'day year', 'buy home'] \n",
      "\n",
      "> Misc \n",
      "Unigrams: ['country', 'live', 'city', 'make', 'time', 'car', 'lot', 'year', 'europe', 'speed'] \n",
      "Bigrams: ['housing crisis', 'speed limit', 'big city', 'public transport', 'year ago', 'eu country', 'rest country', 'speed cap', 'european country', 'high speed'] \n",
      "\n",
      "> Food \n",
      "Unigrams: ['cheese', 'eat', 'bread', 'food', 'make', 'meat', 'coffee', 'hand', 'beer', 'taste'] \n",
      "Bigrams: ['olive oil', 'leave hand', 'horse meat', 'fork leave', 'default cheese', 'hand fork', 'yellow cheese', 'cat dog', 'fork hand', 'dog cat'] \n",
      "\n",
      "> Personal \n",
      "Unigrams: ['english', 'german', 'french', 'fluent', 'speak', 'language', 'native', 'spanish', 'learn', 'country'] \n",
      "Bigrams: ['fluent english', 'speak english', 'native english', 'english fluent', 'english german', 'native language', 'english french', 'french german', 'german french', 'fluent french'] \n",
      "\n",
      "> Meta \n",
      "Unigrams: ['ii', 'guy', '🇦🇹', '🇩🇪', '🇮🇹', '🇬🇷', '🇷🇺', '🇪🇸', '🇬🇧', '🇵🇱'] \n",
      "Bigrams: ['lukashenko 🇧🇪', '🇻🇦 pope', '🇧🇾 lukashenko', '🇸🇲 🇷🇸', '🇲🇪 🇳🇱', 'ronaldo 🇷🇴', '🇷🇺 putin', '🇲🇩 🇲🇨', '🇦🇩 🇦🇹', 'angela merkel'] \n",
      "\n",
      "> Sports \n",
      "Unigrams: ['sport', 'watch', 'football', 'popular', 'team', 'hockey', 'olympics', 'country', 'game', 'time'] \n",
      "Bigrams: ['ice hockey', 'popular sport', 'american football', 'national team', 'watch sport', 'world cup', 'open ceremony', 'football popular', 'field hockey', 'winter olympics'] \n",
      "\n",
      "> Travel \n",
      "Unigrams: ['country', 'city', 'live', 'visit', 'love', 'time', 'place', 'ive', 'id', 'beautiful'] \n",
      "Bigrams: ['european country', 'year ago', 'big city', 'eastern europe', 'speak language', 'beautiful city', 'id love', 'ive visit', 'czech republic', 'beautiful country'] \n",
      "\n",
      "> Politics \n",
      "Unigrams: ['europe', 'country', 'eu', 'european', 'russia', 'make', 'american', 'war', 'china', 'military'] \n",
      "Bigrams: ['european country', 'american product', 'social medium', 'can not', 'join eu', 'cold war', 'make sense', 'long time', 'make product', 'human right'] \n",
      "\n",
      "> Culture \n",
      "Unigrams: ['country', 'time', 'live', 'make', 'naked', 'tourist', 'lot', 'year', 'ive', 'french'] \n",
      "Bigrams: ['north pole', 'big deal', 'european country', 'year ago', 'phone number', 'santa claus', 'naked time', 'speak english', 'walk naked', 'family member'] \n",
      "\n",
      "> History \n",
      "Unigrams: ['war', 'german', 'country', 'time', 'germany', 'year', 'roman', 'probably', 's', 'history'] \n",
      "Bigrams: ['th century', 'world war', 'civil war', 'roman empire', 'found roman', 'soviet union', 'year ago', 'national hero', 'ottoman empire', 'slave trade'] \n",
      "\n",
      "> Education \n",
      "Unigrams: ['school', 'book', 'year', 'read', 'language', 'english', 'buy', 'high', 'time', 'french'] \n",
      "Bigrams: ['high school', 'secondary school', 'buy book', 'primary school', 'foreign language', 'school offer', 'elementary school', 'school book', 'english mandatory', 'middle school'] \n",
      "\n",
      "> Language \n",
      "Unigrams: ['language', 'english', 'german', 'word', 'learn', 'french', 'speak', 'easy', 'understand', '”'] \n",
      "Bigrams: ['speak english', 'english easy', 'language learn', 'english speaker', 'easy learn', 'learn language', 'learn english', 'native language', '” “', 'can not'] \n",
      "\n",
      "> Foreign \n",
      "Unigrams: ['country', 'state', 'city', 'make', 'car', 'lot', 'europe', 'year', 'ban', 'eu'] \n",
      "Bigrams: ['credit card', 'drive manual', 'manual car', 'year ago', 'direct debit', 'debit card', 'rhode island', 'death valley', 'climate change', 'north carolina'] \n",
      "\n"
     ]
    }
   ],
   "execution_count": 6
  },
  {
   "metadata": {
    "ExecuteTime": {
     "end_time": "2025-03-12T09:14:32.702425Z",
     "start_time": "2025-03-12T09:14:29.875388Z"
    }
   },
   "cell_type": "code",
   "source": [
    "# Splitting data into train:test by 80:20\n",
    "X_train, X_test, y_train, y_test = train_test_split(X, y, test_size=0.2, random_state = 42)\n",
    "\n",
    "print(\"Distribution of classes in test set: \\n\", np.bincount(y_test))\n",
    "\n",
    "# Creating the vectorizer\n",
    "tfidf = TfidfVectorizer(max_features = 5000, ngram_range=(1,3), min_df=5, max_df=0.9, stop_words=cleaning.STOPWORDS )\n",
    "tfidf = tfidf.fit(X_train)\n",
    "\n",
    "with open(\"vectorizer.pkl\", 'wb') as file:  \n",
    "    pickle.dump(tfidf, file)\n",
    "\n",
    "X_train = tfidf.transform(X_train).toarray()\n",
    "print('\\nTraining features shape: ',X_train.shape)\n",
    "\n",
    "X_test = tfidf.transform(X_test).toarray()\n",
    "print('Test features shape:     ',X_test.shape)"
   ],
   "id": "d2390c35dcd0c456",
   "outputs": [
    {
     "name": "stdout",
     "output_type": "stream",
     "text": [
      "Distribution of classes in test set: \n",
      " [6 1 4 3 1 4 2 2 4 6 2 1 3]\n",
      "\n",
      "Training features shape:  (156, 5000)\n",
      "Test features shape:      (39, 5000)\n"
     ]
    }
   ],
   "execution_count": 7
  },
  {
   "metadata": {
    "ExecuteTime": {
     "end_time": "2025-03-12T09:14:37.118976Z",
     "start_time": "2025-03-12T09:14:37.115585Z"
    }
   },
   "cell_type": "code",
   "source": [
    "# Function to train the multi-class classifier\n",
    "\n",
    "def train_classifier(model, train_data, train_labels, test_data, test_labels):\n",
    "    model.fit(train_data, train_labels)\n",
    "    prediction = model.predict(test_data)\n",
    "    acc = round(accuracy_score(prediction, test_labels)*100, 0)\n",
    "    print(f'ACCURACY = {acc} %')\n",
    "    return acc, model\n",
    "\n",
    "# Creating dictionary to record accuracy of each model\n",
    "accuracies = {}"
   ],
   "id": "6978fedebe72f882",
   "outputs": [],
   "execution_count": 9
  },
  {
   "metadata": {
    "ExecuteTime": {
     "end_time": "2025-03-12T09:14:38.458441Z",
     "start_time": "2025-03-12T09:14:38.396316Z"
    }
   },
   "cell_type": "code",
   "source": [
    "classifier = naive_bayes.MultinomialNB()\n",
    "accuracies['Naive Bayes'], nb = train_classifier(classifier, X_train, y_train, X_test, y_test)"
   ],
   "id": "6a21f6dba49a25b8",
   "outputs": [
    {
     "name": "stdout",
     "output_type": "stream",
     "text": [
      "ACCURACY = 44.0 %\n"
     ]
    }
   ],
   "execution_count": 10
  },
  {
   "metadata": {
    "ExecuteTime": {
     "end_time": "2025-03-12T09:14:40.259957Z",
     "start_time": "2025-03-12T09:14:39.547838Z"
    }
   },
   "cell_type": "code",
   "source": [
    "classifier = LogisticRegression(multi_class='multinomial', solver='sag')\n",
    "accuracies['Logistic Regression'], logreg = train_classifier(classifier, X_train, y_train, X_test, y_test)"
   ],
   "id": "9d28c3106e71d34a",
   "outputs": [
    {
     "name": "stdout",
     "output_type": "stream",
     "text": [
      "ACCURACY = 56.0 %\n"
     ]
    }
   ],
   "execution_count": 11
  },
  {
   "metadata": {
    "ExecuteTime": {
     "end_time": "2025-03-12T09:14:42.062347Z",
     "start_time": "2025-03-12T09:14:41.264568Z"
    }
   },
   "cell_type": "code",
   "source": [
    "classifier = RandomForestClassifier(n_estimators = 500, min_samples_split = 10, random_state = 42)\n",
    "accuracies['Random Forest'], ranfor = train_classifier(classifier, X_train, y_train, X_test, y_test)"
   ],
   "id": "9b966ebb49cf6c6",
   "outputs": [
    {
     "name": "stdout",
     "output_type": "stream",
     "text": [
      "ACCURACY = 59.0 %\n"
     ]
    }
   ],
   "execution_count": 12
  },
  {
   "metadata": {
    "ExecuteTime": {
     "end_time": "2025-03-12T09:14:43.285536Z",
     "start_time": "2025-03-12T09:14:43.216825Z"
    }
   },
   "cell_type": "code",
   "source": [
    "classifier = SVC(C = 2.5, kernel = 'linear', gamma='auto', random_state=42)\n",
    "accuracies['Linear SVM'], svm = train_classifier(classifier, X_train, y_train, X_test, y_test)"
   ],
   "id": "26786f6f4817e46f",
   "outputs": [
    {
     "name": "stdout",
     "output_type": "stream",
     "text": [
      "ACCURACY = 64.0 %\n"
     ]
    }
   ],
   "execution_count": 13
  },
  {
   "metadata": {
    "ExecuteTime": {
     "end_time": "2025-03-12T09:14:44.688934Z",
     "start_time": "2025-03-12T09:14:44.683043Z"
    }
   },
   "cell_type": "code",
   "source": [
    "models_df = pd.DataFrame(accuracies.items(), columns=['Classifier', 'Accuracy %'])\n",
    "models_df.sort_values(by=['Accuracy %'], ascending=False)"
   ],
   "id": "26b8a8b4175efbf5",
   "outputs": [
    {
     "data": {
      "text/plain": [
       "            Classifier  Accuracy %\n",
       "3           Linear SVM        64.0\n",
       "2        Random Forest        59.0\n",
       "1  Logistic Regression        56.0\n",
       "0          Naive Bayes        44.0"
      ],
      "text/html": [
       "<div>\n",
       "<style scoped>\n",
       "    .dataframe tbody tr th:only-of-type {\n",
       "        vertical-align: middle;\n",
       "    }\n",
       "\n",
       "    .dataframe tbody tr th {\n",
       "        vertical-align: top;\n",
       "    }\n",
       "\n",
       "    .dataframe thead th {\n",
       "        text-align: right;\n",
       "    }\n",
       "</style>\n",
       "<table border=\"1\" class=\"dataframe\">\n",
       "  <thead>\n",
       "    <tr style=\"text-align: right;\">\n",
       "      <th></th>\n",
       "      <th>Classifier</th>\n",
       "      <th>Accuracy %</th>\n",
       "    </tr>\n",
       "  </thead>\n",
       "  <tbody>\n",
       "    <tr>\n",
       "      <th>3</th>\n",
       "      <td>Linear SVM</td>\n",
       "      <td>64.0</td>\n",
       "    </tr>\n",
       "    <tr>\n",
       "      <th>2</th>\n",
       "      <td>Random Forest</td>\n",
       "      <td>59.0</td>\n",
       "    </tr>\n",
       "    <tr>\n",
       "      <th>1</th>\n",
       "      <td>Logistic Regression</td>\n",
       "      <td>56.0</td>\n",
       "    </tr>\n",
       "    <tr>\n",
       "      <th>0</th>\n",
       "      <td>Naive Bayes</td>\n",
       "      <td>44.0</td>\n",
       "    </tr>\n",
       "  </tbody>\n",
       "</table>\n",
       "</div>"
      ]
     },
     "execution_count": 14,
     "metadata": {},
     "output_type": "execute_result"
    }
   ],
   "execution_count": 14
  },
  {
   "metadata": {
    "ExecuteTime": {
     "end_time": "2025-03-12T09:14:59.622935Z",
     "start_time": "2025-03-12T09:14:46.592978Z"
    }
   },
   "cell_type": "code",
   "source": [
    "tsvd = TruncatedSVD(n_components = X_train.shape[1]-1, n_iter=10, random_state = 42)\n",
    "tsvd = tsvd.fit(X_train)\n",
    "tsvd_var_ratios  = tsvd.explained_variance_ratio_\n",
    "\n",
    "def select_n_components(var_ratio, goal_var: float) -> int:\n",
    "    \n",
    "    # Initialize variance explained and num_components\n",
    "    total_variance = 0.0\n",
    "    n_components = 0\n",
    "    \n",
    "    # For the explained variance of each feature:\n",
    "    for explained_variance in var_ratio:\n",
    "        \n",
    "        # Add the explained variance to the total and increment components by 1\n",
    "        total_variance += explained_variance\n",
    "        n_components += 1\n",
    "        \n",
    "        # If goal level of explained variance reached\n",
    "        if total_variance >= goal_var:\n",
    "            break \n",
    " \n",
    "    return n_components\n",
    "\n",
    "select_n_components(tsvd_var_ratios, 0.9)"
   ],
   "id": "b50bcac10170da83",
   "outputs": [
    {
     "data": {
      "text/plain": [
       "111"
      ]
     },
     "execution_count": 15,
     "metadata": {},
     "output_type": "execute_result"
    }
   ],
   "execution_count": 15
  },
  {
   "metadata": {
    "ExecuteTime": {
     "end_time": "2025-03-12T09:15:48.432261Z",
     "start_time": "2025-03-12T09:15:34.164536Z"
    }
   },
   "cell_type": "code",
   "source": [
    "tsvd = TruncatedSVD(n_components = 1138, n_iter=10, random_state=42)\n",
    "tsvd = tsvd.fit(X_train)\n",
    "\n",
    "with open(\"LSA_topics.pkl\", 'wb') as file:  \n",
    "    pickle.dump(tsvd, file)\n",
    "    \n",
    "X_train = tsvd.transform(X_train)\n",
    "X_test = tsvd.transform(X_test)\n",
    "\n",
    "print('Training features shape: ',X_train.shape)\n",
    "print('Test features shape:     ',X_test.shape)"
   ],
   "id": "3cbd0728425a789f",
   "outputs": [
    {
     "name": "stdout",
     "output_type": "stream",
     "text": [
      "Training features shape:  (156, 156)\n",
      "Test features shape:      (39, 156)\n"
     ]
    }
   ],
   "execution_count": 16
  },
  {
   "metadata": {
    "ExecuteTime": {
     "end_time": "2025-03-12T09:15:49.932197Z",
     "start_time": "2025-03-12T09:15:49.909517Z"
    }
   },
   "cell_type": "code",
   "source": [
    "classifier = LogisticRegression(multi_class='multinomial', solver='sag')\n",
    "accuracies['Logistic Regression'], logreg = train_classifier(classifier, X_train, y_train, X_test, y_test)"
   ],
   "id": "5c6d473a15fccd6a",
   "outputs": [
    {
     "name": "stdout",
     "output_type": "stream",
     "text": [
      "ACCURACY = 56.0 %\n"
     ]
    }
   ],
   "execution_count": 17
  },
  {
   "metadata": {
    "ExecuteTime": {
     "end_time": "2025-03-12T09:15:58.772517Z",
     "start_time": "2025-03-12T09:15:58.047099Z"
    }
   },
   "cell_type": "code",
   "source": [
    "classifier = RandomForestClassifier(n_estimators = 500, min_samples_split = 10, random_state = 42)\n",
    "accuracies['Random Forest'], ranfor = train_classifier(classifier, X_train, y_train, X_test, y_test)"
   ],
   "id": "44787f66a7b96364",
   "outputs": [
    {
     "name": "stdout",
     "output_type": "stream",
     "text": [
      "ACCURACY = 51.0 %\n"
     ]
    }
   ],
   "execution_count": 18
  },
  {
   "metadata": {
    "ExecuteTime": {
     "end_time": "2025-03-12T09:16:03.635925Z",
     "start_time": "2025-03-12T09:16:03.627319Z"
    }
   },
   "cell_type": "code",
   "source": [
    "classifier = SVC(C = 2.5, kernel = 'linear', gamma='scale', random_state=42)\n",
    "accuracies['Linear SVM'], svm = train_classifier(classifier, X_train, y_train, X_test, y_test)"
   ],
   "id": "4eaa2663def22ebd",
   "outputs": [
    {
     "name": "stdout",
     "output_type": "stream",
     "text": [
      "ACCURACY = 64.0 %\n"
     ]
    }
   ],
   "execution_count": 19
  },
  {
   "metadata": {
    "ExecuteTime": {
     "end_time": "2025-03-12T09:16:07.657808Z",
     "start_time": "2025-03-12T09:16:07.651271Z"
    }
   },
   "cell_type": "code",
   "source": [
    "models_df = pd.DataFrame(accuracies.items(), columns=['Classifier', 'Accuracy %'])\n",
    "models_df.drop(models_df[models_df.Classifier == 'Naive Bayes'].index, inplace=True)\n",
    "models_df.sort_values(by=['Accuracy %'], ascending=False)"
   ],
   "id": "e741af98260933b1",
   "outputs": [
    {
     "data": {
      "text/plain": [
       "            Classifier  Accuracy %\n",
       "3           Linear SVM        64.0\n",
       "1  Logistic Regression        56.0\n",
       "2        Random Forest        51.0"
      ],
      "text/html": [
       "<div>\n",
       "<style scoped>\n",
       "    .dataframe tbody tr th:only-of-type {\n",
       "        vertical-align: middle;\n",
       "    }\n",
       "\n",
       "    .dataframe tbody tr th {\n",
       "        vertical-align: top;\n",
       "    }\n",
       "\n",
       "    .dataframe thead th {\n",
       "        text-align: right;\n",
       "    }\n",
       "</style>\n",
       "<table border=\"1\" class=\"dataframe\">\n",
       "  <thead>\n",
       "    <tr style=\"text-align: right;\">\n",
       "      <th></th>\n",
       "      <th>Classifier</th>\n",
       "      <th>Accuracy %</th>\n",
       "    </tr>\n",
       "  </thead>\n",
       "  <tbody>\n",
       "    <tr>\n",
       "      <th>3</th>\n",
       "      <td>Linear SVM</td>\n",
       "      <td>64.0</td>\n",
       "    </tr>\n",
       "    <tr>\n",
       "      <th>1</th>\n",
       "      <td>Logistic Regression</td>\n",
       "      <td>56.0</td>\n",
       "    </tr>\n",
       "    <tr>\n",
       "      <th>2</th>\n",
       "      <td>Random Forest</td>\n",
       "      <td>51.0</td>\n",
       "    </tr>\n",
       "  </tbody>\n",
       "</table>\n",
       "</div>"
      ]
     },
     "execution_count": 20,
     "metadata": {},
     "output_type": "execute_result"
    }
   ],
   "execution_count": 20
  },
  {
   "metadata": {
    "ExecuteTime": {
     "end_time": "2025-03-12T09:16:09.708781Z",
     "start_time": "2025-03-12T09:16:09.701760Z"
    }
   },
   "cell_type": "code",
   "source": [
    "y_pred = svm.predict(X_test)\n",
    "print(\"\\nSVM Classifier results: \\n\")\n",
    "print(classification_report(y_test, y_pred, target_names = list(encoder.classes_)))"
   ],
   "id": "46cd45c12e746f5b",
   "outputs": [
    {
     "name": "stdout",
     "output_type": "stream",
     "text": [
      "\n",
      "SVM Classifier results: \n",
      "\n",
      "              precision    recall  f1-score   support\n",
      "\n",
      "     Culture       0.50      0.17      0.25         6\n",
      "   Education       1.00      1.00      1.00         1\n",
      "        Food       1.00      1.00      1.00         4\n",
      "     Foreign       0.29      0.67      0.40         3\n",
      "     History       1.00      1.00      1.00         1\n",
      "    Language       1.00      0.75      0.86         4\n",
      "        Meta       1.00      0.50      0.67         2\n",
      "        Misc       0.00      0.00      0.00         2\n",
      "    Personal       0.50      0.50      0.50         4\n",
      "    Politics       0.80      0.67      0.73         6\n",
      "      Sports       1.00      1.00      1.00         2\n",
      "      Travel       1.00      1.00      1.00         1\n",
      "        Work       0.75      1.00      0.86         3\n",
      "\n",
      "    accuracy                           0.64        39\n",
      "   macro avg       0.76      0.71      0.71        39\n",
      "weighted avg       0.72      0.64      0.65        39\n",
      "\n"
     ]
    }
   ],
   "execution_count": 21
  },
  {
   "metadata": {
    "ExecuteTime": {
     "end_time": "2025-03-12T09:16:12.067171Z",
     "start_time": "2025-03-12T09:16:11.880684Z"
    }
   },
   "cell_type": "code",
   "source": [
    "# CREATING THE CONFUSION MATRIX\n",
    "fig, ax = plot_confusion_matrix(conf_mat = confusion_matrix(y_test, y_pred),\n",
    "                                colorbar = True,\n",
    "                                show_absolute = False,\n",
    "                                show_normed = True,\n",
    "                                figsize = (10,10))\n",
    "plt.title(\"SVM confusion matrix\", fontsize=14)\n",
    "plt.show()"
   ],
   "id": "f94afa9e19cc7cc7",
   "outputs": [
    {
     "data": {
      "text/plain": [
       "<Figure size 1000x1000 with 2 Axes>"
      ],
      "image/png": "[encoded data removed]"
     },
     "metadata": {},
     "output_type": "display_data"
    }
   ],
   "execution_count": 22
  },
  {
   "metadata": {
    "ExecuteTime": {
     "end_time": "2025-03-12T09:16:14.548648Z",
     "start_time": "2025-03-12T09:16:14.544826Z"
    }
   },
   "cell_type": "code",
   "source": [
    "# Saving the best model as pickle file which would be used in website\n",
    "with open(\"reddit_classifier.pkl\", 'wb') as file:  \n",
    "    pickle.dump(svm, file)"
   ],
   "id": "c1b4b8b65e5bbc98",
   "outputs": [],
   "execution_count": 23
  }
 ],
 "metadata": {
  "kernelspec": {
   "display_name": "Python 3",
   "language": "python",
   "name": "python3"
  },
  "language_info": {
   "codemirror_mode": {
    "name": "ipython",
    "version": 2
   },
   "file_extension": ".py",
   "mimetype": "text/x-python",
   "name": "python",
   "nbconvert_exporter": "python",
   "pygments_lexer": "ipython2",
   "version": "2.7.6"
  }
 },
 "nbformat": 4,
 "nbformat_minor": 5
}
